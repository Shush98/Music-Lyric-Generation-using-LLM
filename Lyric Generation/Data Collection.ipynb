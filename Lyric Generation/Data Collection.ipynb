{
 "cells": [
  {
   "cell_type": "code",
   "execution_count": 10,
   "id": "54c90069",
   "metadata": {},
   "outputs": [],
   "source": [
    "genres = ['pop', 'metal', 'rock', 'country', 'rap']"
   ]
  },
  {
   "cell_type": "markdown",
   "id": "98908cd6",
   "metadata": {},
   "source": [
    "## Processing metal\n",
    "https://www.kaggle.com/datasets/sebastianeck/refined-large-metal-lyrics-archive-228k-songs"
   ]
  },
  {
   "cell_type": "code",
   "execution_count": 103,
   "id": "e312f4f0",
   "metadata": {},
   "outputs": [],
   "source": [
    "import pandas as pd\n",
    "\n",
    "metal_data = pd.read_csv('./data/metal_lyrics.csv')\n",
    "\n",
    "# metal_data = metal_data[metal_data['DetectedLanguage'] == 'en']\n",
    "\n",
    "\n",
    "# metal_data.drop(columns=[ 'Artist','Album','Song','SongNum','Year', 'Certainty','DetectedLanguage'], inplace = True)\n",
    "# metal_data['genre'] = 'Metal'\n",
    "# metal_data.to_csv('./metal_lyrics.csv', index = False)"
   ]
  },
  {
   "cell_type": "markdown",
   "id": "8973611c",
   "metadata": {},
   "source": [
    "## Processing Country, Pop, Rock, Rap\n",
    "https://huggingface.co/datasets/amishshah/song_lyrics"
   ]
  },
  {
   "cell_type": "code",
   "execution_count": 104,
   "id": "b24a01f6",
   "metadata": {},
   "outputs": [],
   "source": [
    "from datasets import load_dataset\n",
    "\n",
    "dataset = load_dataset(\"amishshah/song_lyrics\")"
   ]
  },
  {
   "cell_type": "code",
   "execution_count": 105,
   "id": "3cfe5967",
   "metadata": {},
   "outputs": [],
   "source": [
    "dataset = dataset.filter(lambda song: song['tag'] in genres)"
   ]
  },
  {
   "cell_type": "code",
   "execution_count": 106,
   "id": "dd57694d",
   "metadata": {},
   "outputs": [
    {
     "data": {
      "application/vnd.jupyter.widget-view+json": {
       "model_id": "bedabd2ab494449a99d63e619d78d1e4",
       "version_major": 2,
       "version_minor": 0
      },
      "text/plain": [
       "Map:   0%|          | 0/3078130 [00:00<?, ? examples/s]"
      ]
     },
     "metadata": {},
     "output_type": "display_data"
    },
    {
     "data": {
      "text/plain": [
       "DatasetDict({\n",
       "    train: Dataset({\n",
       "        features: ['Unnamed: 0', 'title', 'tag', 'lyrics'],\n",
       "        num_rows: 3078130\n",
       "    })\n",
       "})"
      ]
     },
     "execution_count": 106,
     "metadata": {},
     "output_type": "execute_result"
    }
   ],
   "source": [
    "import tqdm.auto as tqdm\n",
    "import pandas as pd\n",
    "\n",
    "genre_counts = {'rap': [], 'pop': [], 'rock': [], 'country': []}\n",
    "\n",
    "# Iterate over the selected samples and add them to the DataFrame\n",
    "\n",
    "def get_genre_samples(sample):\n",
    "    global genre_counts\n",
    "    tag = sample['tag']\n",
    "    if len(genre_counts[tag]) < 120000 or (tag == 'rap' and len(genre_counts[tag]) < 250000):\n",
    "        genre_counts[tag].append([sample['lyrics'], sample['tag']])\n",
    "\n",
    "dataset.map(get_genre_samples)"
   ]
  },
  {
   "cell_type": "code",
   "execution_count": 107,
   "id": "ef9a4c7b",
   "metadata": {},
   "outputs": [],
   "source": [
    "lyrics_df = pd.read_csv('./data/metal_lyrics.csv', index_col = False)"
   ]
  },
  {
   "cell_type": "code",
   "execution_count": 108,
   "id": "9ca5b7b3",
   "metadata": {},
   "outputs": [],
   "source": [
    "temp_df = pd.DataFrame(genre_counts['rap'], columns=lyrics_df.columns)\n",
    "lyrics_df = pd.concat([lyrics_df, temp_df], ignore_index=True)\n",
    "\n",
    "temp_df = pd.DataFrame(genre_counts['country'], columns=lyrics_df.columns)\n",
    "lyrics_df = pd.concat([lyrics_df, temp_df], ignore_index=True)\n",
    "\n",
    "temp_df = pd.DataFrame(genre_counts['pop'], columns=lyrics_df.columns)\n",
    "lyrics_df = pd.concat([lyrics_df, temp_df], ignore_index=True)\n",
    "\n",
    "temp_df = pd.DataFrame(genre_counts['rock'], columns=lyrics_df.columns)\n",
    "lyrics_df = pd.concat([lyrics_df, temp_df], ignore_index=True)\n",
    "\n",
    "\n",
    "lyrics_df.to_csv('./data/lyrics.csv', index = False)"
   ]
  },
  {
   "cell_type": "markdown",
   "id": "da741134",
   "metadata": {},
   "source": [
    "# More country\n",
    "https://huggingface.co/datasets/chloeliu/lyrics/viewer/default/train?f%5Bgenre%5D%5Bvalue%5D=%27country%27&row=7058"
   ]
  },
  {
   "cell_type": "code",
   "execution_count": 109,
   "id": "24437e46",
   "metadata": {},
   "outputs": [],
   "source": [
    "dataset = load_dataset(\"chloeliu/lyrics\")"
   ]
  },
  {
   "cell_type": "code",
   "execution_count": 110,
   "id": "5b8a4743",
   "metadata": {},
   "outputs": [
    {
     "data": {
      "text/plain": [
       "DatasetDict({\n",
       "    train: Dataset({\n",
       "        features: ['Unnamed: 0', 'artist_name', 'track_name', 'release_date', 'genre', 'lyrics', 'len', 'dating', 'violence', 'world/life', 'night/time', 'shake the audience', 'family/gospel', 'romantic', 'communication', 'obscene', 'music', 'movement/places', 'light/visual perceptions', 'family/spiritual', 'like/girls', 'sadness', 'feelings', 'danceability', 'loudness', 'acousticness', 'instrumentalness', 'valence', 'energy', 'topic', 'age'],\n",
       "        num_rows: 28372\n",
       "    })\n",
       "})"
      ]
     },
     "execution_count": 110,
     "metadata": {},
     "output_type": "execute_result"
    }
   ],
   "source": [
    "dataset"
   ]
  },
  {
   "cell_type": "code",
   "execution_count": 111,
   "id": "e3b5e81a",
   "metadata": {},
   "outputs": [],
   "source": [
    "country_df = pd.DataFrame({ 'Lyric': dataset['train']['lyrics'], 'genre': dataset['train']['genre'] })\n",
    "country_df = country_df[country_df['genre'].isin(genres)]"
   ]
  },
  {
   "cell_type": "code",
   "execution_count": 113,
   "id": "ed71f09c",
   "metadata": {},
   "outputs": [
    {
     "data": {
      "text/plain": [
       "genre\n",
       "Metal      179655\n",
       "country     86658\n",
       "pop        120000\n",
       "rap        250000\n",
       "rock       120000\n",
       "dtype: int64"
      ]
     },
     "execution_count": 113,
     "metadata": {},
     "output_type": "execute_result"
    }
   ],
   "source": [
    "lyrics_df = pd.read_csv('./data/lyrics.csv', index_col = False)\n",
    "lyrics_df.groupby('genre').size()"
   ]
  },
  {
   "cell_type": "code",
   "execution_count": 114,
   "id": "6a57ccac",
   "metadata": {},
   "outputs": [],
   "source": [
    "lyrics_df = pd.concat([lyrics_df, country_df], ignore_index=True)"
   ]
  },
  {
   "cell_type": "code",
   "execution_count": 115,
   "id": "7493058a",
   "metadata": {},
   "outputs": [],
   "source": [
    "from datasets import load_dataset\n",
    "\n",
    "dataset_new = load_dataset(\"ThatOneShortGuy/SongLyrics\")"
   ]
  },
  {
   "cell_type": "code",
   "execution_count": 116,
   "id": "ebf84155",
   "metadata": {},
   "outputs": [],
   "source": [
    "country_df = pd.DataFrame({ 'Lyric': dataset_new['train']['lyrics'], 'genre': dataset_new['train']['genre'] })\n",
    "country_df = country_df[country_df['genre'] == 'Country']\n",
    "country_df['genre'] = 'country'"
   ]
  },
  {
   "cell_type": "code",
   "execution_count": 117,
   "id": "72489b47",
   "metadata": {},
   "outputs": [],
   "source": [
    "lyrics_df = pd.concat([lyrics_df, country_df], ignore_index=True)\n",
    "lyrics_df.drop_duplicates(inplace = True)"
   ]
  },
  {
   "cell_type": "code",
   "execution_count": 118,
   "id": "39242ce8",
   "metadata": {},
   "outputs": [
    {
     "data": {
      "text/plain": [
       "genre\n",
       "Metal      176626\n",
       "country    134607\n",
       "pop        124731\n",
       "rap        249494\n",
       "rock       123844\n",
       "dtype: int64"
      ]
     },
     "execution_count": 118,
     "metadata": {},
     "output_type": "execute_result"
    }
   ],
   "source": [
    "lyrics_df.groupby('genre').size()"
   ]
  },
  {
   "cell_type": "code",
   "execution_count": 119,
   "id": "fb75dc84",
   "metadata": {},
   "outputs": [
    {
     "data": {
      "text/html": [
       "<div>\n",
       "<style scoped>\n",
       "    .dataframe tbody tr th:only-of-type {\n",
       "        vertical-align: middle;\n",
       "    }\n",
       "\n",
       "    .dataframe tbody tr th {\n",
       "        vertical-align: top;\n",
       "    }\n",
       "\n",
       "    .dataframe thead th {\n",
       "        text-align: right;\n",
       "    }\n",
       "</style>\n",
       "<table border=\"1\" class=\"dataframe\">\n",
       "  <thead>\n",
       "    <tr style=\"text-align: right;\">\n",
       "      <th></th>\n",
       "      <th>Lyric</th>\n",
       "      <th>genre</th>\n",
       "    </tr>\n",
       "  </thead>\n",
       "  <tbody>\n",
       "    <tr>\n",
       "      <th>0</th>\n",
       "      <td>Etsin nutta pelkoa, syvyytta Mutta en ainoasta...</td>\n",
       "      <td>Metal</td>\n",
       "    </tr>\n",
       "    <tr>\n",
       "      <th>1</th>\n",
       "      <td>Drops of new gleaming In the flesh new morning...</td>\n",
       "      <td>Metal</td>\n",
       "    </tr>\n",
       "    <tr>\n",
       "      <th>2</th>\n",
       "      <td>Electro eroticism Intelligence is sexy Electro...</td>\n",
       "      <td>Metal</td>\n",
       "    </tr>\n",
       "    <tr>\n",
       "      <th>3</th>\n",
       "      <td>Inhaleexhale Inhale the exhaled Inhaleexhale I...</td>\n",
       "      <td>Metal</td>\n",
       "    </tr>\n",
       "    <tr>\n",
       "      <th>4</th>\n",
       "      <td>Under the dark sky we stand Under heavy rain w...</td>\n",
       "      <td>Metal</td>\n",
       "    </tr>\n",
       "    <tr>\n",
       "      <th>...</th>\n",
       "      <td>...</td>\n",
       "      <td>...</td>\n",
       "    </tr>\n",
       "    <tr>\n",
       "      <th>816003</th>\n",
       "      <td>[Verse 1]\\nLooks like we made it\\nLook how far...</td>\n",
       "      <td>country</td>\n",
       "    </tr>\n",
       "    <tr>\n",
       "      <th>816004</th>\n",
       "      <td>'Neath the spreading magnolia\\nIn the Tennesse...</td>\n",
       "      <td>country</td>\n",
       "    </tr>\n",
       "    <tr>\n",
       "      <th>816005</th>\n",
       "      <td>Many years have passed it seems\\nAnd now I'm a...</td>\n",
       "      <td>country</td>\n",
       "    </tr>\n",
       "    <tr>\n",
       "      <th>816007</th>\n",
       "      <td>[Verse 1]\\nLonely is a rainy day\\nWhen home is...</td>\n",
       "      <td>country</td>\n",
       "    </tr>\n",
       "    <tr>\n",
       "      <th>816008</th>\n",
       "      <td>[Verse 1]\\nSo you say that you're guarded and ...</td>\n",
       "      <td>country</td>\n",
       "    </tr>\n",
       "  </tbody>\n",
       "</table>\n",
       "<p>673304 rows × 2 columns</p>\n",
       "</div>"
      ],
      "text/plain": [
       "                                                    Lyric    genre\n",
       "0       Etsin nutta pelkoa, syvyytta Mutta en ainoasta...    Metal\n",
       "1       Drops of new gleaming In the flesh new morning...    Metal\n",
       "2       Electro eroticism Intelligence is sexy Electro...    Metal\n",
       "3       Inhaleexhale Inhale the exhaled Inhaleexhale I...    Metal\n",
       "4       Under the dark sky we stand Under heavy rain w...    Metal\n",
       "...                                                   ...      ...\n",
       "816003  [Verse 1]\\nLooks like we made it\\nLook how far...  country\n",
       "816004  'Neath the spreading magnolia\\nIn the Tennesse...  country\n",
       "816005  Many years have passed it seems\\nAnd now I'm a...  country\n",
       "816007  [Verse 1]\\nLonely is a rainy day\\nWhen home is...  country\n",
       "816008  [Verse 1]\\nSo you say that you're guarded and ...  country\n",
       "\n",
       "[673304 rows x 2 columns]"
      ]
     },
     "execution_count": 119,
     "metadata": {},
     "output_type": "execute_result"
    }
   ],
   "source": [
    "# lyrics_df = pd.read_csv('./lyrics.csv', index_col = False)\n",
    "# Define the words to exclude\n",
    "words_to_exclude = ['nigger', 'fagot', 'pussy', 'dick', 'nigga', 'slut', 'whore']\n",
    "\n",
    "# Filter rows where the 'genre' column does not contain any of the words to exclude\n",
    "lyrics_df = lyrics_df[~lyrics_df['Lyric'].str.contains('|'.join(words_to_exclude))]\n",
    "\n",
    "lyrics_df"
   ]
  },
  {
   "cell_type": "code",
   "execution_count": 134,
   "id": "f57d97e8",
   "metadata": {},
   "outputs": [
    {
     "name": "stdout",
     "output_type": "stream",
     "text": [
      "genre\n",
      "Metal      172565\n",
      "country    133753\n",
      "pop        121817\n",
      "rap        123435\n",
      "rock       121734\n",
      "dtype: int64\n",
      "genre\n",
      "Metal      100000\n",
      "country    100000\n",
      "pop        100000\n",
      "rap        100000\n",
      "rock       100000\n",
      "dtype: int64\n",
      "genre\n",
      "Metal      10000\n",
      "country    10000\n",
      "pop        10000\n",
      "rap        10000\n",
      "rock       10000\n",
      "dtype: int64\n"
     ]
    }
   ],
   "source": [
    "print(lyrics_df.groupby('genre').size())\n",
    "lyrics_df = lyrics_df.sample(frac=1, random_state=12).sort_values(by='genre')\n",
    "\n",
    "metal_df_train = lyrics_df[lyrics_df['genre']=='Metal'][:100000]\n",
    "rock_df_train = lyrics_df[lyrics_df['genre']=='rock'][:100000]\n",
    "rap_df_train = lyrics_df[lyrics_df['genre']=='rap'][:100000]\n",
    "pop_df_train = lyrics_df[lyrics_df['genre']=='pop'][:100000]\n",
    "country_df_train = lyrics_df[lyrics_df['genre']=='country'][:100000]\n",
    "\n",
    "lyrics_train_df = pd.concat([metal_df_train, rock_df_train, rap_df_train, pop_df_train, country_df_train], ignore_index = True)\n",
    "print(lyrics_train_df.groupby('genre').size())\n",
    "\n",
    "metal_df_test = lyrics_df[lyrics_df['genre']=='Metal'][-10000:]\n",
    "rock_df_test = lyrics_df[lyrics_df['genre']=='rock'][-10000:]\n",
    "rap_df_test = lyrics_df[lyrics_df['genre']=='rap'][-10000:]\n",
    "pop_df_test = lyrics_df[lyrics_df['genre']=='pop'][-10000:]\n",
    "country_df_test = lyrics_df[lyrics_df['genre']=='country'][-10000:]\n",
    "\n",
    "lyrics_test_df = pd.concat([metal_df_test, rock_df_test, rap_df_test, pop_df_test, country_df_test], ignore_index = True)\n",
    "print(lyrics_test_df.groupby('genre').size())\n"
   ]
  },
  {
   "cell_type": "code",
   "execution_count": 136,
   "id": "a75041e3",
   "metadata": {},
   "outputs": [],
   "source": [
    "lyrics_train_df.to_csv('./data/lyrics_train.csv')\n",
    "lyrics_test_df.to_csv('./data/lyrics_test.csv')"
   ]
  },
  {
   "cell_type": "code",
   "execution_count": null,
   "id": "c632bfdf",
   "metadata": {},
   "outputs": [],
   "source": []
  }
 ],
 "metadata": {
  "kernelspec": {
   "display_name": "Python 3 (ipykernel)",
   "language": "python",
   "name": "python3"
  },
  "language_info": {
   "codemirror_mode": {
    "name": "ipython",
    "version": 3
   },
   "file_extension": ".py",
   "mimetype": "text/x-python",
   "name": "python",
   "nbconvert_exporter": "python",
   "pygments_lexer": "ipython3",
   "version": "3.9.12"
  }
 },
 "nbformat": 4,
 "nbformat_minor": 5
}
